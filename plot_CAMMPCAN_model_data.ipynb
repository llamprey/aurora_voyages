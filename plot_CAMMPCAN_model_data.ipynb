{
 "cells": [
  {
   "cell_type": "markdown",
   "id": "af387104",
   "metadata": {
    "tags": []
   },
   "source": [
    "# Plotting routine \n",
    "\n",
    "This will plot a basic map and scatter plot of the CAMMPCAN voyage data from the ACCESS-AM2 model. \n",
    "\n",
    "You can select the variabiles you wish to be plotted. \n",
    "\n",
    "June 2022, sonya.fiddes@utas.edu.au\n"
   ]
  },
  {
   "cell_type": "code",
   "execution_count": null,
   "id": "f1115a5b",
   "metadata": {},
   "outputs": [],
   "source": [
    "import matplotlib.pyplot as plt\n",
    "import matplotlib.colors as colors\n",
    "import matplotlib\n",
    "import numpy as np\n",
    "import cartopy.crs as ccrs\n",
    "import cartopy.feature as cfeature\n",
    "import pandas as pd\n",
    "import seaborn as sns\n",
    "matplotlib.rcParams['pdf.fonttype'] = 42\n",
    "import xarray as xr"
   ]
  },
  {
   "cell_type": "markdown",
   "id": "68e07a60",
   "metadata": {},
   "source": [
    "# Functions "
   ]
  },
  {
   "cell_type": "code",
   "execution_count": null,
   "id": "da244519",
   "metadata": {},
   "outputs": [],
   "source": [
    "def create_time(date1,date2,freq='MS'):\n",
    "        return [i for i in pd.date_range(start=date1, end=date2, freq=freq)]"
   ]
  },
  {
   "cell_type": "code",
   "execution_count": null,
   "id": "7b1641fa",
   "metadata": {},
   "outputs": [],
   "source": [
    "def truncate_colormap(cmap, minval=0.0, maxval=1.0, n=100):\n",
    "    new_cmap = colors.LinearSegmentedColormap.from_list(\n",
    "        'trunc({n},{a:.2f},{b:.2f})'.format(n=cmap.name, a=minval, b=maxval),\n",
    "        cmap(np.linspace(minval, maxval, n)))\n",
    "    return new_cmap"
   ]
  },
  {
   "cell_type": "code",
   "execution_count": null,
   "id": "7eea2887",
   "metadata": {},
   "outputs": [],
   "source": [
    "def plot_map(data,var,varname,cm=None,subplot=None):\n",
    "    if not cm: \n",
    "        cm = truncate_colormap(sns.color_palette('cubehelix',as_cmap=True),0,0.9)\n",
    "    \n",
    "    if not subplot: \n",
    "            subplot = 111\n",
    "    ax = plt.subplot(111, projection=ccrs.PlateCarree(140))\n",
    "        \n",
    "    ax.coastlines();\n",
    "    ax.set_extent((50,170,-70,-30))\n",
    "\n",
    "    p = plt.scatter(data['lon'],data['lat'],\n",
    "                c=var,cmap=cm,s=20,alpha=0.8,\n",
    "                transform=ccrs.PlateCarree())\n",
    "\n",
    "    cax = plt.axes([0.2,0.15,0.6,0.05])\n",
    "    if varname != 'Time': \n",
    "        if hasattr(var,'units'):\n",
    "            cbar = plt.colorbar(p,cax=cax,orientation='horizontal',label=varname+' ('+var.attrs['units']+')')\n",
    "        else: \n",
    "            cbar = plt.colorbar(p,cax=cax,orientation='horizontal',label=varname)\n",
    "    else: \n",
    "        cbar = plt.colorbar(p,cax=cax,orientation='horizontal',label='Time');\n",
    "        time = np.array(create_time(pd.to_datetime(data.time.values).min().date(),pd.to_datetime(data.time.values).max().date()))\n",
    "        time1 = [t.value for t in time]\n",
    "        time2 = [t.date() for t in time]\n",
    "        cbar.set_ticks(time1)\n",
    "        cbar.set_ticklabels(time2)\n",
    "    return(p)"
   ]
  },
  {
   "cell_type": "code",
   "execution_count": null,
   "id": "0327e4d5",
   "metadata": {},
   "outputs": [],
   "source": [
    "def plot_scatter(var1,var2,varname1,varname2,var3=None,varname3=None,cm=None):\n",
    "    if not cm: \n",
    "        cm = truncate_colormap(sns.color_palette('cubehelix',as_cmap=True),0,0.9)\n",
    "\n",
    "    p = plt.scatter(var1,var2,\n",
    "                c=var3,cmap=cm,s=20,alpha=0.8,\n",
    "                )\n",
    "    if hasattr(var1,'units'): \n",
    "        plt.xlabel(varname1+' ('+var1.attrs['units']+')')\n",
    "    else: \n",
    "        plt.xlabel(varname1)\n",
    "    if hasattr(var2,'units'):\n",
    "        plt.ylabel(varname2+' ('+var2.attrs['units']+')')\n",
    "    else:\n",
    "        plt.ylabel(varname2)\n",
    "    \n",
    "    if var3 is not None: \n",
    "        if varname3 == 'Time':\n",
    "            cbar = plt.colorbar(p,label=varname3);\n",
    "            time = np.array(create_time(pd.to_datetime(var1.time.values).min().date(),pd.to_datetime(var1.time.values).max().date()))\n",
    "            time1 = [t.value for t in time]\n",
    "            time2 = [t.date() for t in time]\n",
    "            cbar.set_ticks(time1)\n",
    "            cbar.set_ticklabels(time2)\n",
    "        else: \n",
    "            if hasattr(var3,'units'):\n",
    "                cbar = plt.colorbar(p,label=varname3+' ('+var3.attrs['units']+')');\n",
    "            else: \n",
    "                cbar = plt.colorbar(p,label=varname3);\n",
    "    return(p)"
   ]
  },
  {
   "cell_type": "markdown",
   "id": "cef33738",
   "metadata": {},
   "source": [
    "# Read in data"
   ]
  },
  {
   "cell_type": "code",
   "execution_count": null,
   "id": "8dc9d756",
   "metadata": {
    "tags": []
   },
   "outputs": [],
   "source": [
    "fdir = '/g/data/q90/ll6859/aurora_voyages/output/' # Update directory\n",
    "fname = 'aa1819_cg893_track.nc' # Read in the CAMMPCAN Voyage \n",
    "cammpcan = xr.open_dataset(fdir+fname)"
   ]
  },
  {
   "cell_type": "markdown",
   "id": "bee946bd",
   "metadata": {},
   "source": [
    "# Make plots "
   ]
  },
  {
   "cell_type": "code",
   "execution_count": null,
   "id": "69dbf261",
   "metadata": {},
   "outputs": [],
   "source": [
    "fig = plt.figure(figsize=(10,6))\n",
    "plot_map(cammpcan,cammpcan.time,'Time');"
   ]
  },
  {
   "cell_type": "code",
   "execution_count": null,
   "id": "650c1aa3",
   "metadata": {
    "tags": []
   },
   "outputs": [],
   "source": [
    "plot_scatter(cammpcan.lat,cammpcan.field34001[:,0],'Latitude','Surface Ozone',var3=cammpcan.time,varname3='Time');"
   ]
  },
  {
   "cell_type": "code",
   "execution_count": null,
   "id": "ff32fde0-a37b-4d3e-9f94-52ba92c0495d",
   "metadata": {},
   "outputs": [],
   "source": []
  }
 ],
 "metadata": {
  "kernelspec": {
   "display_name": "Python [conda env:analysis3-23.04]",
   "language": "python",
   "name": "conda-env-analysis3-23.04-py"
  },
  "language_info": {
   "codemirror_mode": {
    "name": "ipython",
    "version": 3
   },
   "file_extension": ".py",
   "mimetype": "text/x-python",
   "name": "python",
   "nbconvert_exporter": "python",
   "pygments_lexer": "ipython3",
   "version": "3.9.16"
  }
 },
 "nbformat": 4,
 "nbformat_minor": 5
}
