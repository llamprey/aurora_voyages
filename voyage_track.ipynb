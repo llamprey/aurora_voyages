{
 "cells": [
  {
   "cell_type": "code",
   "execution_count": 3,
   "id": "3878525e-5363-404f-be1a-ca691bbb4234",
   "metadata": {},
   "outputs": [],
   "source": [
    "# import dask\n",
    "# from dask.distributed import Client\n",
    "# client = Client()  # set up local cluster\n",
    "# client"
   ]
  },
  {
   "cell_type": "code",
   "execution_count": 4,
   "id": "0f663da0-57d8-47a1-9429-a013ff718353",
   "metadata": {},
   "outputs": [],
   "source": [
    "# dask.config.set(**{'array.slicing.split_large_chunks': True});"
   ]
  },
  {
   "cell_type": "code",
   "execution_count": 5,
   "id": "52f2f1f7-ac98-4eb3-8cc2-d081959ee758",
   "metadata": {},
   "outputs": [],
   "source": [
    "import sys\n",
    "import os\n",
    "sys.path.append('/g/data/q90/ll6859/aurora_voyages/')\n",
    "from aercode import *\n",
    "import matplotlib \n",
    "import matplotlib.pyplot as plt \n",
    "import pandas as pd\n",
    "import numpy as np\n",
    "import xarray as xr\n",
    "import glob as gb\n",
    "import cartopy.crs as ccrs\n",
    "import seaborn as sns\n",
    "import scipy\n",
    "import scipy.special\n",
    "import datetime as dt\n",
    "\n",
    "import warnings"
   ]
  },
  {
   "cell_type": "code",
   "execution_count": 6,
   "id": "f5fb2cae-5f81-41ac-8084-3a5bd803f094",
   "metadata": {},
   "outputs": [],
   "source": [
    "plt.style.use('default')\n",
    "warnings.filterwarnings('ignore')"
   ]
  },
  {
   "cell_type": "code",
   "execution_count": 7,
   "id": "8274e253-453f-4562-bf6f-6382bbb62bbd",
   "metadata": {},
   "outputs": [],
   "source": [
    "output_path = '/g/data/q90/ll6859/aurora_voyages/output/'"
   ]
  },
  {
   "cell_type": "markdown",
   "id": "66560617-d1f3-4352-8120-29f7e819b7fd",
   "metadata": {},
   "source": [
    "## CAMMPCAN"
   ]
  },
  {
   "cell_type": "code",
   "execution_count": 6,
   "id": "8b18fb6c-13f7-4062-9830-91591d16fae9",
   "metadata": {},
   "outputs": [],
   "source": [
    "# pull out location of ship\n",
    "f_path = '/g/data/q90/ll6859/aurora_voyages/data/CAMMPCAN_AuroraAustralis_Underway/'\n",
    "voyages = sorted(gb.glob(f_path+'201819_Voyage*.csv'))\n",
    "uw = pd.concat([pd.read_csv(v) for v in voyages ])\n",
    "uw = uw.set_index(pd.to_datetime(uw['date_time_utc']))\n",
    "uw = uw[['latitude','longitude']]\n",
    "uw = uw.resample('1D', kind='Date').mean().ffill()\n",
    "uw.columns = ['lat','lon']"
   ]
  },
  {
   "cell_type": "code",
   "execution_count": 7,
   "id": "da2ff722-c5f1-4284-842f-a541e1a12f3a",
   "metadata": {},
   "outputs": [],
   "source": [
    "# extract chemistry data\n",
    "m_path = '/g/data/jk72/slf563/ACCESS/output/cg893/daily/'\n",
    "mod = 'cg893a'\n",
    "dt = 'pche'\n",
    "key = uw\n",
    "\n",
    "chetrack = df_md(key, m_path, mod, dt)\n",
    "\n",
    "# convert chemistry units\n",
    "chetrack = chem_unit_conversions(chetrack)\n",
    "\n",
    "# extract aerosol data\n",
    "m_path = '/g/data/jk72/slf563/ACCESS/output/cg893/daily/tmp/'\n",
    "mod = 'cg893a'\n",
    "dt = 'paer'\n",
    "key = uw\n",
    "\n",
    "aertrack = df_md(key, m_path, mod, dt)\n",
    "\n",
    "# extract meteorology data\n",
    "m_path = '/g/data/jk72/slf563/ACCESS/output/cg893/daily/'\n",
    "mod = 'cg893a'\n",
    "dt = 'pmet'\n",
    "key = uw\n",
    "\n",
    "mettrack = df_md(key, m_path, mod, dt)\n",
    "\n",
    "# extract u component wind data\n",
    "m_path = '/g/data/jk72/slf563/ACCESS/output/cg893/daily/'\n",
    "mod = 'cg893a'\n",
    "dt = 'pmetu'\n",
    "key = uw\n",
    "\n",
    "metutrack = df_md(key, m_path, mod, dt)\n",
    "\n",
    "# extract v component wind data\n",
    "m_path = '/g/data/jk72/slf563/ACCESS/output/cg893/daily/'\n",
    "mod = 'cg893a'\n",
    "dt = 'pmetv'\n",
    "key = uw\n",
    "\n",
    "metvtrack = df_md(key, m_path, mod, dt)\n",
    "\n",
    "# calculate air density from temperature\n",
    "mettrack = calc_density2(mettrack)\n",
    "\n",
    "# convert aerosol units\n",
    "aertrack = aero_unit_conversions2(aertrack, mettrack)\n",
    "\n",
    "# select data at 20m\n",
    "aertrack = aertrack.isel(z3_hybrid_height=0, z0_hybrid_height=0).expand_dims('z0_hybrid_height').transpose()\n",
    "\n",
    "# calculate aerosol number concentrations\n",
    "aertrack = nt_calcs(aertrack)\n",
    "\n",
    "# calculate CCN number concentrations\n",
    "aertrack = ccn_calcs(aertrack)"
   ]
  },
  {
   "cell_type": "code",
   "execution_count": 8,
   "id": "08049578-8d2b-4707-8be8-a2ac418e9628",
   "metadata": {},
   "outputs": [],
   "source": [
    "# long name for aerosol mode and composition fields\n",
    "aertrack['field431'] = aertrack['field431'].assign_attrs({'long_name':'Dust division 1'})\n",
    "aertrack['field432'] = aertrack['field432'].assign_attrs({'long_name':'Dust division 2'})\n",
    "aertrack['field433'] = aertrack['field433'].assign_attrs({'long_name':'Dust division 3'})\n",
    "aertrack['field434'] = aertrack['field434'].assign_attrs({'long_name':'Dust division 4'})\n",
    "aertrack['field435'] = aertrack['field435'].assign_attrs({'long_name':'Dust division 5'})\n",
    "aertrack['field436'] = aertrack['field436'].assign_attrs({'long_name':'Dust division 6'})\n",
    "\n",
    "aertrack['field34101'] = aertrack['field34101'].assign_attrs({'long_name':'NUCLEATION MODE (SOLUBLE) NUMBER'})\n",
    "aertrack['field34102'] = aertrack['field34102'].assign_attrs({'long_name':'NUCLEATION MODE (SOLUBLE) H2SO4'})\n",
    "aertrack['field34103'] = aertrack['field34103'].assign_attrs({'long_name':'AITKEN MODE (SOLUBLE) NUMBER'})\n",
    "aertrack['field34104'] = aertrack['field34104'].assign_attrs({'long_name':'AITKEN MODE (SOLUBLE) H2SO4'})\n",
    "aertrack['field34105'] = aertrack['field34105'].assign_attrs({'long_name':'AITKEN MODE (SOLUBLE) BC'})\n",
    "aertrack['field34106'] = aertrack['field34106'].assign_attrs({'long_name':'AITKEN MODE (SOLUBLE) OM'})\n",
    "aertrack['field34107'] = aertrack['field34107'].assign_attrs({'long_name':'ACCUMULATION MODE (SOLUBLE) NUMBER'})\n",
    "aertrack['field34108'] = aertrack['field34108'].assign_attrs({'long_name':'ACCUMULATION MODE (SOL) H2SO4'})\n",
    "aertrack['field34109'] = aertrack['field34109'].assign_attrs({'long_name':'ACCUMULATION MODE (SOL) BC'})\n",
    "aertrack['field34110'] = aertrack['field34110'].assign_attrs({'long_name':'ACCUMULATION MODE (SOL) OM'})\n",
    "aertrack['field34111'] = aertrack['field34111'].assign_attrs({'long_name':'ACCUMULATION MODE (SOL) SEA SALT'})\n",
    "aertrack['field34113'] = aertrack['field34113'].assign_attrs({'long_name':'COARSE MODE (SOLUBLE) NUMBER'})\n",
    "aertrack['field34114'] = aertrack['field34114'].assign_attrs({'long_name':'COARSE MODE (SOLUBLE) H2SO4'})\n",
    "aertrack['field34115'] = aertrack['field34115'].assign_attrs({'long_name':'COARSE MODE (SOLUBLE) BC'})\n",
    "aertrack['field34116'] = aertrack['field34116'].assign_attrs({'long_name':'COARSE MODE (SOLUBLE) OM'})\n",
    "aertrack['field34117'] = aertrack['field34117'].assign_attrs({'long_name':'COARSE MODE (SOLUBLE) SEA SALT'})\n",
    "aertrack['field34119'] = aertrack['field34119'].assign_attrs({'long_name':'AITKEN MODE (INSOLUBLE) NUMBER'})\n",
    "aertrack['field34120'] = aertrack['field34120'].assign_attrs({'long_name':'AITKEN MODE (INSOLUBLE) BC'})\n",
    "aertrack['field34121'] = aertrack['field34121'].assign_attrs({'long_name':'AITKEN MODE (INSOLUBLE) OM'})\n",
    "aertrack['field34126'] = aertrack['field34126'].assign_attrs({'long_name':'NUCLEATION MODE (SOLUBLE) OM'})"
   ]
  },
  {
   "cell_type": "code",
   "execution_count": 9,
   "id": "aa31436e-dfa2-4497-a548-d3f835974a5b",
   "metadata": {},
   "outputs": [],
   "source": [
    "# long name and unit changes for calculated aerosol fields\n",
    "aertrack['N10'] = aertrack['N10'].assign_attrs({'units':'cm-3'})\n",
    "aertrack['N10'] = aertrack['N10'].assign_attrs({'long_name':'Condensation Nuclei (>5r)'}) \n",
    "\n",
    "aertrack['N3'] = aertrack['N3'].assign_attrs({'units':'cm-3'})\n",
    "aertrack['N3'] = aertrack['N3'].assign_attrs({'long_name':'Condensation Nuclei (>1.5r)'}) \n",
    "\n",
    "aertrack['CCN40'] = aertrack['CCN40'].assign_attrs({'units':'cm-3'})\n",
    "aertrack['CCN40'] = aertrack['CCN40'].assign_attrs({'long_name':'Cloud Condensation Nuclei (>20r)'}) \n",
    "\n",
    "aertrack['CCN50'] = aertrack['CCN50'].assign_attrs({'units':'cm-3'})\n",
    "aertrack['CCN50'] = aertrack['CCN50'].assign_attrs({'long_name':'Cloud Condensation Nuclei (>25r)'}) \n",
    "\n",
    "aertrack['CCN60'] = aertrack['CCN60'].assign_attrs({'units':'cm-3'})\n",
    "aertrack['CCN60'] = aertrack['CCN60'].assign_attrs({'long_name':'Cloud Condensation Nuclei (>30r)'}) \n",
    "\n",
    "aertrack['DustSum'] = aertrack.field431 + aertrack.field432 + aertrack.field433 + aertrack.field434 + aertrack.field435 + aertrack.field436\n",
    "aertrack['DustSum'] = aertrack['DustSum'].assign_attrs({'units':'mol/cm-3'})\n",
    "aertrack['DustSum'] = aertrack['DustSum'].assign_attrs({'long_name':'Sum of dust divisions'}) "
   ]
  },
  {
   "cell_type": "code",
   "execution_count": 10,
   "id": "16c24d57-8051-4330-bd88-1c9ce34ba2ab",
   "metadata": {},
   "outputs": [],
   "source": [
    "# drop height coordinate from lat and lon\n",
    "aertrack['lat'] = aertrack['lat'].drop('z0_hybrid_height').squeeze()\n",
    "aertrack['lon'] = aertrack['lon'].drop('z0_hybrid_height').squeeze()"
   ]
  },
  {
   "cell_type": "code",
   "execution_count": 11,
   "id": "fc2ffad5-3f52-4adf-ae61-3944a1bfb78e",
   "metadata": {},
   "outputs": [],
   "source": [
    "# calculate aerosol size distribution\n",
    "aerdist = calc_size_dists(aertrack)"
   ]
  },
  {
   "cell_type": "code",
   "execution_count": 12,
   "id": "33892bbd-68f9-474a-b2c9-322ae585a3b2",
   "metadata": {},
   "outputs": [],
   "source": [
    "# merges aerosol, meteorology and chemistry data together\n",
    "camptrack = xr.merge([aertrack,mettrack,metutrack,metvtrack,chetrack])"
   ]
  },
  {
   "cell_type": "code",
   "execution_count": 13,
   "id": "002a46ec-46f4-4cc8-9953-3d77ec34a4e5",
   "metadata": {},
   "outputs": [],
   "source": [
    "# drops calculated density field\n",
    "camptrack = camptrack.drop('density')"
   ]
  },
  {
   "cell_type": "code",
   "execution_count": 14,
   "id": "bf72d18d-bdd9-408c-92a6-41670848fec3",
   "metadata": {},
   "outputs": [],
   "source": [
    "# drops redundant height coordinates\n",
    "camptrack = camptrack.drop('z3_hybrid_height')\n",
    "camptrack = camptrack.drop('z1_hybrid_height').squeeze()"
   ]
  },
  {
   "cell_type": "code",
   "execution_count": 15,
   "id": "2a9e8b8d-8b9d-4921-ab63-cd59f2c5134b",
   "metadata": {},
   "outputs": [],
   "source": [
    "# adds wavelength attribute to the z_pseudo2 coordinate\n",
    "camptrack['z_pseudo2'].attrs['wavelengths'] = '380 nm, 440 nm, 550 nm, 670 nm, 870 nm, 1020 nm'"
   ]
  },
  {
   "cell_type": "code",
   "execution_count": 16,
   "id": "fd5872d5-1d5a-4ec2-9557-ea697f993ab1",
   "metadata": {},
   "outputs": [],
   "source": [
    "# remove time component from datetime coordinate, invert datetime order\n",
    "camptrack['time'] = camptrack.indexes['time'].normalize()\n",
    "camptrack['time'] = camptrack['time'][::-1]\n",
    "aerdist['Time'] = aerdist['Time'][::-1]"
   ]
  },
  {
   "cell_type": "code",
   "execution_count": 17,
   "id": "968ead95-89b1-487f-be31-1e0b66a18225",
   "metadata": {},
   "outputs": [],
   "source": [
    "# add attributes to the time coordinate\n",
    "camptrack['time'].attrs['standard_name'] ='time'\n",
    "camptrack['time'].attrs['axis'] ='T'\n",
    "\n",
    "aerdist['Time'].attrs['standard_name'] ='time'\n",
    "aerdist['Time'].attrs['axis'] ='T'"
   ]
  },
  {
   "cell_type": "code",
   "execution_count": 18,
   "id": "bec6aaae-0c09-49c6-92b8-6833ca0a5f07",
   "metadata": {},
   "outputs": [],
   "source": [
    "# add metadata attributes to netCDF\n",
    "\n",
    "camptrack.attrs['title'] = 'ACCESS-AM2 model output along the 2018-2019 CAMMPCAN Aurora Australis voyage tracks'\n",
    "camptrack.attrs['contacts'] = 'Liam.Lamprey@utas.edu.au\\nsonya.fiddes@utas.edu.au'\n",
    "camptrack.attrs['description'] = 'Output from ACCESS-AM2 run for CMIP6 (research.csiro.au/access/cmip6/) with full chemistry and no ocean, nudged with ERA5, along the path of the Aurora Australis during the 2018-2019 CAMMPCAN project.'\n",
    "camptrack.attrs['website'] = 'findanexpert.unimelb.edu.au/project/102792-cammpcan---chemical-and-mesoscale-mechanisms-of-polar-cell-aerosol-nucleation'"
   ]
  },
  {
   "cell_type": "code",
   "execution_count": 19,
   "id": "10f340a3-8dc7-4954-9aa5-befc34f4bd48",
   "metadata": {},
   "outputs": [],
   "source": [
    "# add metadata attributes to netCDF\n",
    "\n",
    "aerdist.attrs['title'] = 'ACCESS-AM2 model aerosol size distributions along the 2018-2019 CAMMPCAN Aurora Australis voyage tracks'\n",
    "aerdist.attrs['contacts'] = 'Liam.Lamprey@utas.edu.au\\nsonya.fiddes@utas.edu.au'\n",
    "aerdist.attrs['description'] = 'Aerosol size distributions calculated using output from the ACCESS-AM2 run for CMIP6 (research.csiro.au/access/cmip6/) with full chemistry and no ocean, nudged with ERA5, along the path of the Aurora Australis during the 2018-2019 CAMMPCAN project.'\n",
    "aerdist.attrs['website'] = 'findanexpert.unimelb.edu.au/project/102792-cammpcan---chemical-and-mesoscale-mechanisms-of-polar-cell-aerosol-nucleation'"
   ]
  },
  {
   "cell_type": "code",
   "execution_count": 20,
   "id": "839a63ba-ca07-4623-a246-2e0cc716cb26",
   "metadata": {},
   "outputs": [],
   "source": [
    "# updates netCDF history attribute\n",
    "camptrack = camptrack.assign_attrs(history='/scratch/jk72/slf563/cylc-run/u-cg893/share/data/History_Data/cg893a.paer20190325 converted to netCDF by slf563 on 2022-03-30. Merged aer, chem and met into netCDF by ll6859 on 2022-05-11.')"
   ]
  },
  {
   "cell_type": "code",
   "execution_count": 21,
   "id": "e36ebd7e-898e-4651-a204-88f3d39f08cf",
   "metadata": {},
   "outputs": [],
   "source": [
    "# adds netCDF history attribute\n",
    "aerdist = aerdist.assign_attrs(history='Aerosol size distributions calculated with /g/data/q90/ll6859/aa1819_cg893_track.nc by ll6859 on 2022-05-11')"
   ]
  },
  {
   "cell_type": "code",
   "execution_count": 22,
   "id": "d8283861-57b8-4493-a5c3-b0a5ab43a00c",
   "metadata": {},
   "outputs": [],
   "source": [
    "# convert campaign data to netCDF\n",
    "camptrack.load().to_netcdf(path=output_path+'aa1819_cg893_track.nc')"
   ]
  },
  {
   "cell_type": "code",
   "execution_count": 23,
   "id": "4e852fb2-800a-435c-a84b-32c327845a22",
   "metadata": {},
   "outputs": [],
   "source": [
    "# convert aerosol size distribution data to netCDF\n",
    "aerdist.load().to_netcdf(path=output_path+'aa1819_cg893_aerdist.nc')"
   ]
  },
  {
   "cell_type": "markdown",
   "id": "bf4a4b8b-732d-4dfc-b6ac-23e8f0bbce78",
   "metadata": {},
   "source": [
    "## MARCUS"
   ]
  },
  {
   "cell_type": "code",
   "execution_count": 8,
   "id": "da701bf7-a962-402c-9433-d99e5a38ae7c",
   "metadata": {},
   "outputs": [],
   "source": [
    "# pull out location of ship\n",
    "f_path = '/g/data/q90/ll6859/aurora_voyages/data/AuroraAustralis_Underway/'\n",
    "voyages = sorted(gb.glob(f_path+'201718_Voyage*.csv'))\n",
    "uw = pd.concat([pd.read_csv(v) for v in voyages ])\n",
    "uw = uw.set_index(pd.to_datetime(uw['date_time_utc']))\n",
    "uw = uw[['latitude','longitude']]\n",
    "uw = uw.resample('1D', kind='Date').mean().ffill()\n",
    "uw.columns = ['lat','lon']"
   ]
  },
  {
   "cell_type": "code",
   "execution_count": 9,
   "id": "9294853a-e6c5-443a-98c2-368c12f1a6f3",
   "metadata": {},
   "outputs": [],
   "source": [
    "# extract chemistry data\n",
    "m_path = '/g/data/jk72/slf563/ACCESS/output/cg893/daily/'\n",
    "mod = 'cg893a'\n",
    "dt = 'pche'\n",
    "key = uw\n",
    "\n",
    "chetrack = df_md(key, m_path, mod, dt)\n",
    "\n",
    "# convert chemistry units\n",
    "chetrack = chem_unit_conversions(chetrack)\n",
    "\n",
    "# extract aerosol data\n",
    "m_path = '/g/data/jk72/slf563/ACCESS/output/cg893/daily/tmp/'\n",
    "mod = 'cg893a'\n",
    "dt = 'paer'\n",
    "key = uw\n",
    "\n",
    "aertrack = df_md(key, m_path, mod, dt)\n",
    "\n",
    "# extract meteorology data\n",
    "m_path = '/g/data/jk72/slf563/ACCESS/output/cg893/daily/'\n",
    "mod = 'cg893a'\n",
    "dt = 'pmet'\n",
    "key = uw\n",
    "\n",
    "mettrack = df_md(key, m_path, mod, dt)\n",
    "\n",
    "# extract u component wind data\n",
    "m_path = '/g/data/jk72/slf563/ACCESS/output/cg893/daily/'\n",
    "mod = 'cg893a'\n",
    "dt = 'pmetu'\n",
    "key = uw\n",
    "\n",
    "metutrack = df_md(key, m_path, mod, dt)\n",
    "\n",
    "# extract v component wind data\n",
    "m_path = '/g/data/jk72/slf563/ACCESS/output/cg893/daily/'\n",
    "mod = 'cg893a'\n",
    "dt = 'pmetv'\n",
    "key = uw\n",
    "\n",
    "metvtrack = df_md(key, m_path, mod, dt)\n",
    "\n",
    "# calculate air density from temperature\n",
    "mettrack = calc_density2(mettrack)\n",
    "\n",
    "# convert aerosol units\n",
    "aertrack = aero_unit_conversions2(aertrack, mettrack)\n",
    "\n",
    "# select data at 20m\n",
    "aertrack = aertrack.isel(z3_hybrid_height=0, z0_hybrid_height=0).expand_dims('z0_hybrid_height').transpose()\n",
    "\n",
    "# calculate aerosol number concentrations\n",
    "aertrack = nt_calcs(aertrack)\n",
    "\n",
    "# calculate CCN number concentrations\n",
    "aertrack = ccn_calcs(aertrack)"
   ]
  },
  {
   "cell_type": "code",
   "execution_count": 10,
   "id": "c4a19a85-3ca1-448d-8c95-fa95afa85f96",
   "metadata": {},
   "outputs": [],
   "source": [
    "# long name for aerosol mode and composition fields\n",
    "aertrack['field431'] = aertrack['field431'].assign_attrs({'long_name':'Dust division 1'})\n",
    "aertrack['field432'] = aertrack['field432'].assign_attrs({'long_name':'Dust division 2'})\n",
    "aertrack['field433'] = aertrack['field433'].assign_attrs({'long_name':'Dust division 3'})\n",
    "aertrack['field434'] = aertrack['field434'].assign_attrs({'long_name':'Dust division 4'})\n",
    "aertrack['field435'] = aertrack['field435'].assign_attrs({'long_name':'Dust division 5'})\n",
    "aertrack['field436'] = aertrack['field436'].assign_attrs({'long_name':'Dust division 6'})\n",
    "\n",
    "aertrack['field34101'] = aertrack['field34101'].assign_attrs({'long_name':'NUCLEATION MODE (SOLUBLE) NUMBER'})\n",
    "aertrack['field34102'] = aertrack['field34102'].assign_attrs({'long_name':'NUCLEATION MODE (SOLUBLE) H2SO4'})\n",
    "aertrack['field34103'] = aertrack['field34103'].assign_attrs({'long_name':'AITKEN MODE (SOLUBLE) NUMBER'})\n",
    "aertrack['field34104'] = aertrack['field34104'].assign_attrs({'long_name':'AITKEN MODE (SOLUBLE) H2SO4'})\n",
    "aertrack['field34105'] = aertrack['field34105'].assign_attrs({'long_name':'AITKEN MODE (SOLUBLE) BC'})\n",
    "aertrack['field34106'] = aertrack['field34106'].assign_attrs({'long_name':'AITKEN MODE (SOLUBLE) OM'})\n",
    "aertrack['field34107'] = aertrack['field34107'].assign_attrs({'long_name':'ACCUMULATION MODE (SOLUBLE) NUMBER'})\n",
    "aertrack['field34108'] = aertrack['field34108'].assign_attrs({'long_name':'ACCUMULATION MODE (SOL) H2SO4'})\n",
    "aertrack['field34109'] = aertrack['field34109'].assign_attrs({'long_name':'ACCUMULATION MODE (SOL) BC'})\n",
    "aertrack['field34110'] = aertrack['field34110'].assign_attrs({'long_name':'ACCUMULATION MODE (SOL) OM'})\n",
    "aertrack['field34111'] = aertrack['field34111'].assign_attrs({'long_name':'ACCUMULATION MODE (SOL) SEA SALT'})\n",
    "aertrack['field34113'] = aertrack['field34113'].assign_attrs({'long_name':'COARSE MODE (SOLUBLE) NUMBER'})\n",
    "aertrack['field34114'] = aertrack['field34114'].assign_attrs({'long_name':'COARSE MODE (SOLUBLE) H2SO4'})\n",
    "aertrack['field34115'] = aertrack['field34115'].assign_attrs({'long_name':'COARSE MODE (SOLUBLE) BC'})\n",
    "aertrack['field34116'] = aertrack['field34116'].assign_attrs({'long_name':'COARSE MODE (SOLUBLE) OM'})\n",
    "aertrack['field34117'] = aertrack['field34117'].assign_attrs({'long_name':'COARSE MODE (SOLUBLE) SEA SALT'})\n",
    "aertrack['field34119'] = aertrack['field34119'].assign_attrs({'long_name':'AITKEN MODE (INSOLUBLE) NUMBER'})\n",
    "aertrack['field34120'] = aertrack['field34120'].assign_attrs({'long_name':'AITKEN MODE (INSOLUBLE) BC'})\n",
    "aertrack['field34121'] = aertrack['field34121'].assign_attrs({'long_name':'AITKEN MODE (INSOLUBLE) OM'})\n",
    "aertrack['field34126'] = aertrack['field34126'].assign_attrs({'long_name':'NUCLEATION MODE (SOLUBLE) OM'})"
   ]
  },
  {
   "cell_type": "code",
   "execution_count": 11,
   "id": "00239c3b-037f-4f06-bb8a-5ee1b2767136",
   "metadata": {},
   "outputs": [],
   "source": [
    "# long name and unit changes for calculated aerosol fields\n",
    "aertrack['N10'] = aertrack['N10'].assign_attrs({'units':'cm-3'})\n",
    "aertrack['N10'] = aertrack['N10'].assign_attrs({'long_name':'Condensation Nuclei (>5r)'}) \n",
    "\n",
    "aertrack['N3'] = aertrack['N3'].assign_attrs({'units':'cm-3'})\n",
    "aertrack['N3'] = aertrack['N3'].assign_attrs({'long_name':'Condensation Nuclei (>1.5r)'}) \n",
    "\n",
    "aertrack['CCN40'] = aertrack['CCN40'].assign_attrs({'units':'cm-3'})\n",
    "aertrack['CCN40'] = aertrack['CCN40'].assign_attrs({'long_name':'Cloud Condensation Nuclei (>20r)'}) \n",
    "\n",
    "aertrack['CCN50'] = aertrack['CCN50'].assign_attrs({'units':'cm-3'})\n",
    "aertrack['CCN50'] = aertrack['CCN50'].assign_attrs({'long_name':'Cloud Condensation Nuclei (>25r)'}) \n",
    "\n",
    "aertrack['CCN60'] = aertrack['CCN60'].assign_attrs({'units':'cm-3'})\n",
    "aertrack['CCN60'] = aertrack['CCN60'].assign_attrs({'long_name':'Cloud Condensation Nuclei (>30r)'}) \n",
    "\n",
    "aertrack['DustSum'] = aertrack.field431 + aertrack.field432 + aertrack.field433 + aertrack.field434 + aertrack.field435 + aertrack.field436\n",
    "aertrack['DustSum'] = aertrack['DustSum'].assign_attrs({'units':'mol/cm-3'})\n",
    "aertrack['DustSum'] = aertrack['DustSum'].assign_attrs({'long_name':'Sum of dust divisions'}) "
   ]
  },
  {
   "cell_type": "code",
   "execution_count": 12,
   "id": "6bb3cd3f-d56d-4e39-b715-f07af346f7eb",
   "metadata": {},
   "outputs": [],
   "source": [
    "# drop height coordinate from lat and lon\n",
    "aertrack['lat'] = aertrack['lat'].drop('z0_hybrid_height').squeeze()\n",
    "aertrack['lon'] = aertrack['lon'].drop('z0_hybrid_height').squeeze()"
   ]
  },
  {
   "cell_type": "code",
   "execution_count": 13,
   "id": "9b012b3e-f272-48cc-9b7d-5a53856d4848",
   "metadata": {},
   "outputs": [],
   "source": [
    "# calculate aerosol size distribution\n",
    "aerdist = calc_size_dists(aertrack)"
   ]
  },
  {
   "cell_type": "code",
   "execution_count": 14,
   "id": "a01e0f05-1505-4df8-9183-3f5e322124d8",
   "metadata": {},
   "outputs": [],
   "source": [
    "# merges aerosol, meteorology and chemistry data together\n",
    "camptrack = xr.merge([aertrack,mettrack,metutrack,metvtrack,chetrack])"
   ]
  },
  {
   "cell_type": "code",
   "execution_count": 15,
   "id": "09bc4d7a-dcaf-4166-ad10-0a6bb68680bf",
   "metadata": {},
   "outputs": [],
   "source": [
    "# drops calculated density field\n",
    "camptrack = camptrack.drop('density')"
   ]
  },
  {
   "cell_type": "code",
   "execution_count": 16,
   "id": "50298941-cbb4-49e2-9438-138c8704dda7",
   "metadata": {},
   "outputs": [],
   "source": [
    "# drops redundant height coordinates\n",
    "camptrack = camptrack.drop('z3_hybrid_height')\n",
    "camptrack = camptrack.drop('z1_hybrid_height').squeeze()"
   ]
  },
  {
   "cell_type": "code",
   "execution_count": 17,
   "id": "f7355913-77ba-4a0d-a6fb-ff20bd5eb6cd",
   "metadata": {},
   "outputs": [],
   "source": [
    "# adds wavelength attribute to the z_pseudo2 coordinate\n",
    "camptrack['z_pseudo2'].attrs['wavelengths'] = '380 nm, 440 nm, 550 nm, 670 nm, 870 nm, 1020 nm'"
   ]
  },
  {
   "cell_type": "code",
   "execution_count": 18,
   "id": "d2fb5961-0d45-4406-a012-e3ff8030f435",
   "metadata": {},
   "outputs": [],
   "source": [
    "# remove time component from datetime coordinate, invert datetime order\n",
    "camptrack['time'] = camptrack.indexes['time'].normalize()\n",
    "camptrack['time'] = camptrack['time'][::-1]\n",
    "aerdist['Time'] = aerdist['Time'][::-1]"
   ]
  },
  {
   "cell_type": "code",
   "execution_count": 19,
   "id": "da52a22b-5535-4c9c-b13e-26940f7316ae",
   "metadata": {},
   "outputs": [],
   "source": [
    "# add attributes to the time coordinate\n",
    "camptrack['time'].attrs['standard_name'] ='time'\n",
    "camptrack['time'].attrs['axis'] ='T'\n",
    "\n",
    "aerdist['Time'].attrs['standard_name'] ='time'\n",
    "aerdist['Time'].attrs['axis'] ='T'"
   ]
  },
  {
   "cell_type": "code",
   "execution_count": 20,
   "id": "c8c17534-2900-4afb-ad9e-3ae42378a811",
   "metadata": {},
   "outputs": [],
   "source": [
    "# add metadata attributes to netCDF\n",
    "\n",
    "camptrack.attrs['title'] = 'ACCESS-AM2 model output along the 2017-2018 MARCUS Aurora Australis voyage tracks'\n",
    "camptrack.attrs['contacts'] = 'Liam.Lamprey@utas.edu.au\\nsonya.fiddes@utas.edu.au'\n",
    "camptrack.attrs['description'] = 'Output from ACCESS-AM2 run for CMIP6 (research.csiro.au/access/cmip6/) with full chemistry and no ocean, nudged with ERA5, along the path of the Aurora Australis during the 2017-2018 MARCUS project.'\n",
    "camptrack.attrs['website'] = 'https://asr.science.energy.gov/meetings/stm/presentations/2017/473.pdf'"
   ]
  },
  {
   "cell_type": "code",
   "execution_count": 21,
   "id": "aa66ed31-5e2c-4bef-ae6b-1e86582d832c",
   "metadata": {},
   "outputs": [],
   "source": [
    "# add metadata attributes to netCDF\n",
    "\n",
    "aerdist.attrs['title'] = 'ACCESS-AM2 model aerosol size distributions along the 2017-2018 MARCUS Aurora Australis voyage tracks'\n",
    "aerdist.attrs['contacts'] = 'Liam.Lamprey@utas.edu.au\\nsonya.fiddes@utas.edu.au'\n",
    "aerdist.attrs['description'] = 'Aerosol size distributions calculated using output from the ACCESS-AM2 run for CMIP6 (research.csiro.au/access/cmip6/) with full chemistry and no ocean, nudged with ERA5, along the path of the Aurora Australis during the 2017-2018 MARCUS project.'\n",
    "aerdist.attrs['website'] = 'https://asr.science.energy.gov/meetings/stm/presentations/2017/473.pdf'"
   ]
  },
  {
   "cell_type": "code",
   "execution_count": 22,
   "id": "7a1fb20c-5104-4108-bc4f-7dfd1ad346a2",
   "metadata": {},
   "outputs": [],
   "source": [
    "# updates netCDF history attribute\n",
    "camptrack = camptrack.assign_attrs(history='/scratch/jk72/slf563/cylc-run/u-cg893/share/data/History_Data/cg893a.paer20190325 converted to netCDF by slf563 on 2022-03-30. Merged aer, chem and met into netCDF by ll6859 on 2022-05-11.')"
   ]
  },
  {
   "cell_type": "code",
   "execution_count": 23,
   "id": "8aa60b14-e26c-4406-8375-a62e970bb976",
   "metadata": {},
   "outputs": [],
   "source": [
    "# adds netCDF history attribute\n",
    "aerdist = aerdist.assign_attrs(history='Aerosol size distributions calculated with /g/data/q90/ll6859/aa1718_cg893_track.nc by ll6859 on 2022-05-11')"
   ]
  },
  {
   "cell_type": "code",
   "execution_count": 24,
   "id": "9de84427-c61e-4800-8803-1fab64747cd8",
   "metadata": {},
   "outputs": [],
   "source": [
    "# convert campaign data to netCDF\n",
    "camptrack.load().to_netcdf(path=output_path+'aa1718_cg893_track.nc')"
   ]
  },
  {
   "cell_type": "code",
   "execution_count": 25,
   "id": "03e4c8eb-4df1-42ea-8c42-268ee51e64a6",
   "metadata": {},
   "outputs": [],
   "source": [
    "# convert aerosol size distribution data to netCDF\n",
    "aerdist.load().to_netcdf(path=output_path+'aa1718_cg893_aerdist.nc')"
   ]
  }
 ],
 "metadata": {
  "kernelspec": {
   "display_name": "Python [conda env:analysis3-23.04]",
   "language": "python",
   "name": "conda-env-analysis3-23.04-py"
  },
  "language_info": {
   "codemirror_mode": {
    "name": "ipython",
    "version": 3
   },
   "file_extension": ".py",
   "mimetype": "text/x-python",
   "name": "python",
   "nbconvert_exporter": "python",
   "pygments_lexer": "ipython3",
   "version": "3.9.16"
  }
 },
 "nbformat": 4,
 "nbformat_minor": 5
}
