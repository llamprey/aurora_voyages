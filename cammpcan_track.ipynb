{
 "cells": [
  {
   "cell_type": "code",
   "execution_count": null,
   "metadata": {},
   "outputs": [],
   "source": [
    "import sys\n",
    "import os\n",
    "sys.path.append('/home/581/ll6859/Documents/')\n",
    "from functions import *\n",
    "import matplotlib \n",
    "import matplotlib.pyplot as plt \n",
    "import pandas as pd\n",
    "import numpy as np\n",
    "import xarray as xr\n",
    "import glob as gb\n",
    "import cartopy.crs as ccrs\n",
    "import seaborn as sns\n",
    "from datetime import datetime\n",
    "\n",
    "import dask\n",
    "import warnings\n",
    "from dask.distributed import Client"
   ]
  },
  {
   "cell_type": "code",
   "execution_count": null,
   "metadata": {},
   "outputs": [],
   "source": [
    "plt.style.use('default')\n",
    "warnings.filterwarnings('ignore')\n",
    "dask.config.set(**{'array.slicing.split_large_chunks': True})\n",
    "client = Client()\n",
    "client"
   ]
  },
  {
   "cell_type": "code",
   "execution_count": null,
   "metadata": {},
   "outputs": [],
   "source": [
    "# pull out location of ship\n",
    "f_path = '/home/581/ll6859/Documents/CAMMPCAN/cammpcan_uw/'\n",
    "voyages = sorted(gb.glob(f_path+'201819_Voyage*.csv'))\n",
    "uw = pd.concat([pd.read_csv(v) for v in voyages ])\n",
    "uw = uw.set_index(pd.to_datetime(uw['date_time_utc']))\n",
    "uw = uw[['latitude','longitude']]\n",
    "uw = uw.resample('1D', kind='Date').mean().ffill()\n",
    "uw.columns = ['lat','lon']"
   ]
  },
  {
   "cell_type": "code",
   "execution_count": null,
   "metadata": {},
   "outputs": [],
   "source": [
    "# extract chemistry data\n",
    "m_path = '/g/data/jk72/slf563/ACCESS/output/cg893/daily/'\n",
    "mod = 'cg893a'\n",
    "dt = 'pche'\n",
    "key = uw\n",
    "\n",
    "chetrack = df_md(key, m_path, mod, dt)"
   ]
  },
  {
   "cell_type": "code",
   "execution_count": null,
   "metadata": {},
   "outputs": [],
   "source": [
    "# convert chemistry units\n",
    "chetrack = chem_unit_conversions(chetrack)"
   ]
  },
  {
   "cell_type": "code",
   "execution_count": null,
   "metadata": {},
   "outputs": [],
   "source": [
    "# extract aerosol data\n",
    "m_path = '/g/data/jk72/slf563/ACCESS/output/cg893/daily/tmp/'\n",
    "mod = 'cg893a'\n",
    "dt = 'paer'\n",
    "key = uw\n",
    "\n",
    "aertrack = df_md(key, m_path, mod, dt)"
   ]
  },
  {
   "cell_type": "code",
   "execution_count": null,
   "metadata": {},
   "outputs": [],
   "source": [
    "# extract meteorology data\n",
    "m_path = '/g/data/jk72/slf563/ACCESS/output/cg893/daily/'\n",
    "mod = 'cg893a'\n",
    "dt = 'pmet'\n",
    "key = uw\n",
    "\n",
    "mettrack = df_md(key, m_path, mod, dt)"
   ]
  },
  {
   "cell_type": "code",
   "execution_count": null,
   "metadata": {},
   "outputs": [],
   "source": [
    "# extract u component wind data\n",
    "m_path = '/g/data/jk72/slf563/ACCESS/output/cg893/daily/'\n",
    "mod = 'cg893a'\n",
    "dt = 'pmetu'\n",
    "key = uw\n",
    "\n",
    "metutrack = df_md(key, m_path, mod, dt)"
   ]
  },
  {
   "cell_type": "code",
   "execution_count": null,
   "metadata": {},
   "outputs": [],
   "source": [
    "# extract v component wind data\n",
    "m_path = '/g/data/jk72/slf563/ACCESS/output/cg893/daily/'\n",
    "mod = 'cg893a'\n",
    "dt = 'pmetv'\n",
    "key = uw\n",
    "\n",
    "metvtrack = df_md(key, m_path, mod, dt)"
   ]
  },
  {
   "cell_type": "code",
   "execution_count": null,
   "metadata": {},
   "outputs": [],
   "source": [
    "# calculate air density from temperature\n",
    "mettrack = calc_density2(mettrack)"
   ]
  },
  {
   "cell_type": "code",
   "execution_count": null,
   "metadata": {},
   "outputs": [],
   "source": [
    "# convert aerosol units\n",
    "aertrack = aero_unit_conversions2(aertrack, mettrack)"
   ]
  },
  {
   "cell_type": "code",
   "execution_count": null,
   "metadata": {},
   "outputs": [],
   "source": [
    "# select data at 20m\n",
    "aertrack = aertrack.isel(z3_hybrid_height=0, z0_hybrid_height=0).expand_dims('z0_hybrid_height').transpose()"
   ]
  },
  {
   "cell_type": "code",
   "execution_count": null,
   "metadata": {
    "scrolled": false
   },
   "outputs": [],
   "source": [
    "# calculate aerosol number concentrations\n",
    "aertrack = nt_calcs(aertrack)"
   ]
  },
  {
   "cell_type": "code",
   "execution_count": null,
   "metadata": {},
   "outputs": [],
   "source": [
    "# calculate CCN number concentrations\n",
    "aertrack = ccn_calcs(aertrack)"
   ]
  },
  {
   "cell_type": "code",
   "execution_count": null,
   "metadata": {},
   "outputs": [],
   "source": [
    "# long name for aerosol mode and composition fields\n",
    "aertrack['field431'] = aertrack['field431'].assign_attrs({'long_name':'Dust division 1'})\n",
    "aertrack['field432'] = aertrack['field432'].assign_attrs({'long_name':'Dust division 2'})\n",
    "aertrack['field433'] = aertrack['field433'].assign_attrs({'long_name':'Dust division 3'})\n",
    "aertrack['field434'] = aertrack['field434'].assign_attrs({'long_name':'Dust division 4'})\n",
    "aertrack['field435'] = aertrack['field435'].assign_attrs({'long_name':'Dust division 5'})\n",
    "aertrack['field436'] = aertrack['field436'].assign_attrs({'long_name':'Dust division 6'})\n",
    "\n",
    "aertrack['field34101'] = aertrack['field34101'].assign_attrs({'long_name':'NUCLEATION MODE (SOLUBLE) NUMBER'})\n",
    "aertrack['field34102'] = aertrack['field34102'].assign_attrs({'long_name':'NUCLEATION MODE (SOLUBLE) H2SO4'})\n",
    "aertrack['field34103'] = aertrack['field34103'].assign_attrs({'long_name':'AITKEN MODE (SOLUBLE) NUMBER'})\n",
    "aertrack['field34104'] = aertrack['field34104'].assign_attrs({'long_name':'AITKEN MODE (SOLUBLE) H2SO4'})\n",
    "aertrack['field34105'] = aertrack['field34105'].assign_attrs({'long_name':'AITKEN MODE (SOLUBLE) BC'})\n",
    "aertrack['field34106'] = aertrack['field34106'].assign_attrs({'long_name':'AITKEN MODE (SOLUBLE) OM'})\n",
    "aertrack['field34107'] = aertrack['field34107'].assign_attrs({'long_name':'ACCUMULATION MODE (SOLUBLE) NUMBER'})\n",
    "aertrack['field34108'] = aertrack['field34108'].assign_attrs({'long_name':'ACCUMULATION MODE (SOL) H2SO4'})\n",
    "aertrack['field34109'] = aertrack['field34109'].assign_attrs({'long_name':'ACCUMULATION MODE (SOL) BC'})\n",
    "aertrack['field34110'] = aertrack['field34110'].assign_attrs({'long_name':'ACCUMULATION MODE (SOL) OM'})\n",
    "aertrack['field34111'] = aertrack['field34111'].assign_attrs({'long_name':'ACCUMULATION MODE (SOL) SEA SALT'})\n",
    "aertrack['field34113'] = aertrack['field34113'].assign_attrs({'long_name':'COARSE MODE (SOLUBLE) NUMBER'})\n",
    "aertrack['field34114'] = aertrack['field34114'].assign_attrs({'long_name':'COARSE MODE (SOLUBLE) H2SO4'})\n",
    "aertrack['field34115'] = aertrack['field34115'].assign_attrs({'long_name':'COARSE MODE (SOLUBLE) BC'})\n",
    "aertrack['field34116'] = aertrack['field34116'].assign_attrs({'long_name':'COARSE MODE (SOLUBLE) OM'})\n",
    "aertrack['field34117'] = aertrack['field34117'].assign_attrs({'long_name':'COARSE MODE (SOLUBLE) SEA SALT'})\n",
    "aertrack['field34119'] = aertrack['field34119'].assign_attrs({'long_name':'AITKEN MODE (INSOLUBLE) NUMBER'})\n",
    "aertrack['field34120'] = aertrack['field34120'].assign_attrs({'long_name':'AITKEN MODE (INSOLUBLE) BC'})\n",
    "aertrack['field34121'] = aertrack['field34121'].assign_attrs({'long_name':'AITKEN MODE (INSOLUBLE) OM'})\n",
    "aertrack['field34126'] = aertrack['field34126'].assign_attrs({'long_name':'NUCLEATION MODE (SOLUBLE) OM'})"
   ]
  },
  {
   "cell_type": "code",
   "execution_count": null,
   "metadata": {},
   "outputs": [],
   "source": [
    "# long name and unit changes for calculated aerosol fields\n",
    "aertrack['N10'] = aertrack['N10'].assign_attrs({'units':'cm-3'})\n",
    "aertrack['N10'] = aertrack['N10'].assign_attrs({'long_name':'Condensation Nuclei (>5r)'}) \n",
    "\n",
    "aertrack['N3'] = aertrack['N3'].assign_attrs({'units':'cm-3'})\n",
    "aertrack['N3'] = aertrack['N3'].assign_attrs({'long_name':'Condensation Nuclei (>1.5r)'}) \n",
    "\n",
    "aertrack['CCN40'] = aertrack['CCN40'].assign_attrs({'units':'cm-3'})\n",
    "aertrack['CCN40'] = aertrack['CCN40'].assign_attrs({'long_name':'Cloud Condensation Nuclei (>20r)'}) \n",
    "\n",
    "aertrack['CCN50'] = aertrack['CCN50'].assign_attrs({'units':'cm-3'})\n",
    "aertrack['CCN50'] = aertrack['CCN50'].assign_attrs({'long_name':'Cloud Condensation Nuclei (>25r)'}) \n",
    "\n",
    "aertrack['CCN60'] = aertrack['CCN60'].assign_attrs({'units':'cm-3'})\n",
    "aertrack['CCN60'] = aertrack['CCN60'].assign_attrs({'long_name':'Cloud Condensation Nuclei (>30r)'}) \n",
    "\n",
    "aertrack['DustSum'] = aertrack.field431 + aertrack.field432 + aertrack.field433 + aertrack.field434 + aertrack.field435 + aertrack.field436\n",
    "aertrack['DustSum'] = aertrack['DustSum'].assign_attrs({'units':'mol/cm-3'})\n",
    "aertrack['DustSum'] = aertrack['DustSum'].assign_attrs({'long_name':'Sum of dust divisions'}) "
   ]
  },
  {
   "cell_type": "code",
   "execution_count": null,
   "metadata": {},
   "outputs": [],
   "source": [
    "# drop height coordinate from lat and lon\n",
    "aertrack['lat'] = aertrack['lat'].drop('z0_hybrid_height').squeeze()\n",
    "aertrack['lon'] = aertrack['lon'].drop('z0_hybrid_height').squeeze()"
   ]
  },
  {
   "cell_type": "code",
   "execution_count": null,
   "metadata": {},
   "outputs": [],
   "source": [
    "# calculate aerosol size distribution\n",
    "aerdist = calc_size_dists(aertrack)"
   ]
  },
  {
   "cell_type": "code",
   "execution_count": null,
   "metadata": {},
   "outputs": [],
   "source": [
    "# merges aerosol, meteorology and chemistry data together\n",
    "camptrack = xr.merge([aertrack,mettrack,metutrack,metvtrack,chetrack])"
   ]
  },
  {
   "cell_type": "code",
   "execution_count": null,
   "metadata": {},
   "outputs": [],
   "source": [
    "# drops calculated density field\n",
    "camptrack = camptrack.drop('density')"
   ]
  },
  {
   "cell_type": "code",
   "execution_count": null,
   "metadata": {},
   "outputs": [],
   "source": [
    "# drops redundant height coordinates\n",
    "camptrack = camptrack.drop('z3_hybrid_height')\n",
    "camptrack = camptrack.drop('z1_hybrid_height').squeeze()"
   ]
  },
  {
   "cell_type": "code",
   "execution_count": null,
   "metadata": {},
   "outputs": [],
   "source": [
    "# adds wavelength attribute to the z_pseudo2 coordinate\n",
    "camptrack['z_pseudo2'].attrs['wavelengths'] = '380 nm, 440 nm, 550 nm, 670 nm, 870 nm, 1020 nm'"
   ]
  },
  {
   "cell_type": "code",
   "execution_count": null,
   "metadata": {},
   "outputs": [],
   "source": [
    "# remove time component from datetime coordinate, invert datetime order\n",
    "camptrack['time'] = camptrack.indexes['time'].normalize()\n",
    "camptrack['time'] = camptrack['time'][::-1]\n",
    "aerdist['Time'] = aerdist['Time'][::-1]"
   ]
  },
  {
   "cell_type": "code",
   "execution_count": null,
   "metadata": {},
   "outputs": [],
   "source": [
    "# add metadata attributes to netCDF\n",
    "\n",
    "camptrack.attrs['title'] = 'ACCESS-AM2 model output along the 2018-2019 CAMMPCAN Aurora Australis voyage tracks'\n",
    "camptrack.attrs['contacts'] = 'Liam.Lamprey@utas.edu.au\\nsonya.fiddes@utas.edu.au'\n",
    "camptrack.attrs['description'] = 'Output from ACCESS-AM2 run for CMIP6 (research.csiro.au/access/cmip6/) with full chemistry and no ocean, nudged with ERA5, along the path of the Aurora Australis during the 2018-2019 CAMMPCAN project.'\n",
    "camptrack.attrs['website'] = 'findanexpert.unimelb.edu.au/project/102792-cammpcan---chemical-and-mesoscale-mechanisms-of-polar-cell-aerosol-nucleation'"
   ]
  },
  {
   "cell_type": "code",
   "execution_count": null,
   "metadata": {},
   "outputs": [],
   "source": [
    "# add metadata attributes to netCDF\n",
    "\n",
    "aerdist.attrs['title'] = 'ACCESS-AM2 model aerosol size distributions along the 2018-2019 CAMMPCAN Aurora Australis voyage tracks'\n",
    "aerdist.attrs['contacts'] = 'Liam.Lamprey@utas.edu.au\\nsonya.fiddes@utas.edu.au'\n",
    "aerdist.attrs['description'] = 'Aerosol size distributions calculated using output from the ACCESS-AM2 run for CMIP6 (research.csiro.au/access/cmip6/) with full chemistry and no ocean, nudged with ERA5, along the path of the Aurora Australis during the 2018-2019 CAMMPCAN project.'\n",
    "aerdist.attrs['website'] = 'findanexpert.unimelb.edu.au/project/102792-cammpcan---chemical-and-mesoscale-mechanisms-of-polar-cell-aerosol-nucleation'"
   ]
  },
  {
   "cell_type": "code",
   "execution_count": null,
   "metadata": {},
   "outputs": [],
   "source": [
    "# updates netCDF history attribute\n",
    "camptrack = camptrack.assign_attrs(history='/scratch/jk72/slf563/cylc-run/u-cg893/share/data/History_Data/cg893a.paer20190325 converted to netCDF by slf563 on 2022-03-30. Merged aer, chem and met into netCDF by ll6859 on 2022-05-11.')"
   ]
  },
  {
   "cell_type": "code",
   "execution_count": null,
   "metadata": {},
   "outputs": [],
   "source": [
    "# adds netCDF history attribute\n",
    "aerdist = aerdist.assign_attrs(history='Aerosol size distributions calculated with /g/data/q90/ll6859/aa1819_cg893_track.nc by ll6859 on 2022-05-11')"
   ]
  },
  {
   "cell_type": "code",
   "execution_count": null,
   "metadata": {},
   "outputs": [],
   "source": [
    "# print size of campaign data\n",
    "camptrack.nbytes"
   ]
  },
  {
   "cell_type": "code",
   "execution_count": null,
   "metadata": {},
   "outputs": [],
   "source": [
    "# print size of aerosol distribution data\n",
    "aerdist.nbytes"
   ]
  },
  {
   "cell_type": "code",
   "execution_count": null,
   "metadata": {},
   "outputs": [],
   "source": [
    "# convert campaign data to netCDF\n",
    "camptrack.load().to_netcdf(path='/g/data/q90/ll6859/aa1819_cg893_track.nc')"
   ]
  },
  {
   "cell_type": "code",
   "execution_count": null,
   "metadata": {},
   "outputs": [],
   "source": [
    "# convert aerosol size distribution data to netCDF\n",
    "aerdist.load().to_netcdf(path='/g/data/q90/ll6859/aa1819_cg893_aerdist.nc')"
   ]
  },
  {
   "cell_type": "code",
   "execution_count": null,
   "metadata": {},
   "outputs": [],
   "source": [
    "# pull out variable names\n",
    "list(camptrack.keys())"
   ]
  },
  {
   "cell_type": "code",
   "execution_count": null,
   "metadata": {},
   "outputs": [],
   "source": [
    "# pull out variable long names\n",
    "for i in list(camptrack.keys()):\n",
    "    if hasattr(camptrack[i], \"long_name\")==True:\n",
    "        print(camptrack[i].long_name)\n",
    "    else:\n",
    "        print(np.nan)"
   ]
  },
  {
   "cell_type": "code",
   "execution_count": null,
   "metadata": {},
   "outputs": [],
   "source": [
    "# pull out variable coordinates\n",
    "for i in list(camptrack.keys()):\n",
    "    print(list(camptrack[i].coords))"
   ]
  },
  {
   "cell_type": "code",
   "execution_count": null,
   "metadata": {},
   "outputs": [],
   "source": [
    "# pull out variable units\n",
    "for i in list(camptrack.keys()):\n",
    "    if hasattr(camptrack[i], \"units\")==True:\n",
    "        print(camptrack[i].units)\n",
    "    else:\n",
    "        print(np.nan)"
   ]
  }
 ],
 "metadata": {
  "kernelspec": {
   "display_name": "Python 3",
   "language": "python",
   "name": "python3"
  },
  "language_info": {
   "codemirror_mode": {
    "name": "ipython",
    "version": 3
   },
   "file_extension": ".py",
   "mimetype": "text/x-python",
   "name": "python",
   "nbconvert_exporter": "python",
   "pygments_lexer": "ipython3",
   "version": "3.8.5"
  }
 },
 "nbformat": 4,
 "nbformat_minor": 5
}
